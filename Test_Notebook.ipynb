{
 "cells": [
  {
   "cell_type": "code",
   "execution_count": 1,
   "metadata": {},
   "outputs": [],
   "source": [
    "from raster_reclass import *"
   ]
  },
  {
   "cell_type": "code",
   "execution_count": 2,
   "metadata": {},
   "outputs": [],
   "source": [
    "hrupath = '/home/eric/Downloads/orighrus.tif'\n",
    "remap_hrupath = '/home/eric/Downloads/remaphrus.tif'\n",
    "blocksize = 2000\n",
    "\n",
    "complete_reptable = pd.read_csv('~/Downloads/remaptable_test.csv')\n",
    "\n",
    "# Formatting reptable.\n",
    "complete_reptable.columns = ['torep','repval','pct']\n",
    "\n",
    "# Convert torep column to negative. \n",
    "# This is so that we don't accidentally remap the same HRU twice.\n",
    "complete_reptable['torep'] = complete_reptable.torep * -1\n",
    "\n",
    "# There are a lot of HRU replacements that are a tiny fraction (like 1E-17), which we can ignore.\n",
    "# This line filters those out.\n",
    "complete_reptable = complete_reptable[complete_reptable.pct*100>=1]\n",
    "\n",
    "# There are some remap percentages that exceed 100% because whoever made the remap table did a bad job.\n",
    "# This rounds down to 100%. \n",
    "complete_reptable.loc[complete_reptable.pct>1,'pct'] = 1\n",
    "\n",
    "# Sorting the table and resetting the index.\n",
    "complete_reptable = complete_reptable.sort_values('pct').reset_index(drop=True)"
   ]
  },
  {
   "cell_type": "code",
   "execution_count": null,
   "metadata": {},
   "outputs": [
    {
     "name": "stdout",
     "output_type": "stream",
     "text": [
      " Runtime: 00:00:47 | Input queue: 1132 | Output queue: 0  \r"
     ]
    }
   ],
   "source": [
    "reclassraster(hrupath,remap_hrupath,complete_reptable,blocksize,'/home/eric/Downloads/')"
   ]
  },
  {
   "cell_type": "code",
   "execution_count": null,
   "metadata": {},
   "outputs": [],
   "source": []
  },
  {
   "cell_type": "code",
   "execution_count": 4,
   "metadata": {},
   "outputs": [],
   "source": [
    "logpath = '/var/log'\n",
    "progress_logfile = os.path.join(logpath,'raster_reclass_progress.log')\n",
    "error_logfile = os.path.join(logpath,'raster_reclass_errors.log')\n",
    "\n",
    "setup_logger('progress', progress_logfile, logging.INFO)\n",
    "setup_logger('error', error_logfile, logging.ERROR)\n",
    "\n",
    "global errorlog\n",
    "errorlog = logging.getLogger('error')\n",
    "global progresslog\n",
    "progresslog = logging.getLogger('progress')\n",
    "\n",
    "pd.set_option('mode.chained_assignment', None)"
   ]
  },
  {
   "cell_type": "code",
   "execution_count": 5,
   "metadata": {},
   "outputs": [
    {
     "name": "stderr",
     "output_type": "stream",
     "text": [
      "Exception in thread Thread-5:\n",
      "Traceback (most recent call last):\n",
      "  File \"/home/eric/envs/wmms-cc3/lib/python3.7/threading.py\", line 926, in _bootstrap_inner\n",
      "    self.run()\n",
      "  File \"/media/eric/T5/projects_daily/projects/raster_reclass/raster_reclass.py\", line 161, in run\n",
      "    progresslog.info('READ WINDOW ADDED TO INPUT QUEUE-- {}, {}'.format(col,row))\n",
      "NameError: name 'progresslog' is not defined\n",
      "\n"
     ]
    }
   ],
   "source": [
    "inputqueue = queue.Queue()\n",
    "\n",
    "producer = WindowProducer(inputqueue=inputqueue, hrupath=hrupath, blocksize=blocksize)\n",
    "producer.start()\n",
    "producer.join()"
   ]
  },
  {
   "cell_type": "code",
   "execution_count": null,
   "metadata": {},
   "outputs": [],
   "source": [
    "window = inputqueue.get()"
   ]
  },
  {
   "cell_type": "code",
   "execution_count": null,
   "metadata": {},
   "outputs": [],
   "source": [
    "window"
   ]
  },
  {
   "cell_type": "code",
   "execution_count": null,
   "metadata": {},
   "outputs": [],
   "source": [
    "hru_block = "
   ]
  },
  {
   "cell_type": "code",
   "execution_count": null,
   "metadata": {},
   "outputs": [],
   "source": [
    "\n",
    "vals_torep = np.unique(self.hru_block) # get every value we want to replace (every unique value)\n",
    "vals_torep = vals_torep[vals_torep!=self.nodata] #drop nodatas\n",
    "\n",
    "for val_torep in vals_torep:\n",
    "    # Subset reptable so that we're only looking at replacement values for the current HRU.\n",
    "    self.reptable = self.complete_reptable[self.complete_reptable.torep==val_torep]\n",
    "    # Check to see if there are actually replacement values for the current HRU.\n",
    "    if len(self.reptable)>0:\n",
    "\n",
    "        row_indices,col_indices=np.where(self.hru_block==val_torep) # Find locations in the block where the current HRU exists.\n",
    "        self.reptable['numrep'] = self.reptable['pct']*len(row_indices) # Calculate number of cells to replace with each replacement value.\n",
    "        inds = np.arange(0,len(row_indices)) # Create empty vector to fill later with replacement locations.\n",
    "\n",
    "        #Iterate through the table of replacement values, replacing the correct\n",
    "        # percentage of the HRU with its replacement values.\n",
    "        for i,row in self.reptable.iterrows():\n",
    "            repval = row.repval\n",
    "            numrep = int(row.numrep)\n",
    "\n",
    "            inds_torep = choice(inds,numrep,replace=False) # This function randomly selects points in the empty vector (inds),\n",
    "                                                           # which will be replaced with the current replacement value.\n",
    "\n",
    "            inds = np.setdiff1d(inds,inds_torep) # Dropping the portions of the empty vector\n",
    "                                                 # that are being replaced with the replacement value.\n",
    "\n",
    "            rows_torep = row_indices[inds_torep] # Converting from 1D to 2D indices.\n",
    "            cols_torep = col_indices[inds_torep]\n",
    "\n",
    "            self.hru_block[rows_torep,cols_torep] = repval # This is where the HRU block values are actually replaced.\n",
    "\n",
    "        # Because the replacement percentages may not alway sum exactly to 1, there may be a couple cells that\n",
    "        # have not yet been replaced at this point. The three lines below handle those cases, by replacing them\n",
    "        # with the last replacement value in the replacement table. It's technically less accurate than it could\n",
    "        # be, but it will only ever be a couple cells out of thousands.\n",
    "        row_indices,col_indices=np.where(self.hru_block==val_torep)\n",
    "        if len(row_indices) > 0:\n",
    "            self.hru_block[row_indices,col_indices] = self.reptable.repval.tail(1).values\n"
   ]
  },
  {
   "cell_type": "code",
   "execution_count": null,
   "metadata": {},
   "outputs": [],
   "source": []
  },
  {
   "cell_type": "code",
   "execution_count": 1,
   "metadata": {},
   "outputs": [],
   "source": [
    "class TestClass():\n",
    "    def __init__(self):\n",
    "        self.var = 5"
   ]
  },
  {
   "cell_type": "code",
   "execution_count": 2,
   "metadata": {},
   "outputs": [],
   "source": [
    "test = TestClass()"
   ]
  },
  {
   "cell_type": "code",
   "execution_count": 3,
   "metadata": {},
   "outputs": [
    {
     "data": {
      "text/plain": [
       "5"
      ]
     },
     "execution_count": 3,
     "metadata": {},
     "output_type": "execute_result"
    }
   ],
   "source": [
    "test.var"
   ]
  },
  {
   "cell_type": "code",
   "execution_count": 7,
   "metadata": {},
   "outputs": [],
   "source": [
    "class NewClass(TestClass):\n",
    "    pass"
   ]
  },
  {
   "cell_type": "code",
   "execution_count": 8,
   "metadata": {},
   "outputs": [],
   "source": [
    "othertest = NewClass()"
   ]
  },
  {
   "cell_type": "code",
   "execution_count": 9,
   "metadata": {},
   "outputs": [
    {
     "data": {
      "text/plain": [
       "5"
      ]
     },
     "execution_count": 9,
     "metadata": {},
     "output_type": "execute_result"
    }
   ],
   "source": [
    "othertest.var"
   ]
  },
  {
   "cell_type": "code",
   "execution_count": null,
   "metadata": {},
   "outputs": [],
   "source": []
  },
  {
   "cell_type": "code",
   "execution_count": null,
   "metadata": {},
   "outputs": [],
   "source": []
  },
  {
   "cell_type": "code",
   "execution_count": null,
   "metadata": {},
   "outputs": [],
   "source": []
  },
  {
   "cell_type": "code",
   "execution_count": null,
   "metadata": {},
   "outputs": [],
   "source": []
  }
 ],
 "metadata": {
  "kernelspec": {
   "display_name": "Python [conda env:eric-wmms-cc3]",
   "language": "python",
   "name": "conda-env-eric-wmms-cc3-py"
  },
  "language_info": {
   "codemirror_mode": {
    "name": "ipython",
    "version": 3
   },
   "file_extension": ".py",
   "mimetype": "text/x-python",
   "name": "python",
   "nbconvert_exporter": "python",
   "pygments_lexer": "ipython3",
   "version": "3.7.9"
  }
 },
 "nbformat": 4,
 "nbformat_minor": 2
}
