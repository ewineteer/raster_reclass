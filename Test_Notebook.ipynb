{
 "cells": [
  {
   "cell_type": "code",
   "execution_count": 1,
   "metadata": {},
   "outputs": [],
   "source": [
    "from raster_reclass import *"
   ]
  },
  {
   "cell_type": "code",
   "execution_count": 2,
   "metadata": {},
   "outputs": [],
   "source": [
    "hrupath = '/home/eric/Downloads/orighrus.tif'\n",
    "remap_hrupath = '/home/eric/Downloads/remaphrus.tif'\n",
    "blocksize = 2000\n",
    "\n",
    "complete_reptable = pd.read_csv('~/Downloads/remaptable_test.csv')\n",
    "\n",
    "# Formatting reptable.\n",
    "complete_reptable.columns = ['torep','repval','pct']\n",
    "\n",
    "# Convert torep column to negative. \n",
    "# This is so that we don't accidentally remap the same HRU twice.\n",
    "complete_reptable['torep'] = complete_reptable.torep * -1\n",
    "\n",
    "# There are a lot of HRU replacements that are a tiny fraction (like 1E-17), which we can ignore.\n",
    "# This line filters those out.\n",
    "complete_reptable = complete_reptable[complete_reptable.pct*100>=1]\n",
    "\n",
    "# There are some remap percentages that exceed 100% because whoever made the remap table did a bad job.\n",
    "# This rounds down to 100%. \n",
    "complete_reptable.loc[complete_reptable.pct>1,'pct'] = 1\n",
    "\n",
    "# Sorting the table and resetting the index.\n",
    "complete_reptable = complete_reptable.sort_values('pct').reset_index(drop=True)"
   ]
  },
  {
   "cell_type": "code",
   "execution_count": null,
   "metadata": {},
   "outputs": [
    {
     "name": "stdout",
     "output_type": "stream",
     "text": [
      " Runtime: 00:00:13 | Input queue: 1173 | Output queue: 19 \r"
     ]
    }
   ],
   "source": [
    "reclassraster(hrupath,remap_hrupath,complete_reptable,blocksize,'/home/eric/Downloads/')"
   ]
  },
  {
   "cell_type": "code",
   "execution_count": null,
   "metadata": {},
   "outputs": [],
   "source": []
  }
 ],
 "metadata": {
  "kernelspec": {
   "display_name": "Python 3",
   "language": "python",
   "name": "python3"
  },
  "language_info": {
   "codemirror_mode": {
    "name": "ipython",
    "version": 3
   },
   "file_extension": ".py",
   "mimetype": "text/x-python",
   "name": "python",
   "nbconvert_exporter": "python",
   "pygments_lexer": "ipython3",
   "version": "3.6.9"
  }
 },
 "nbformat": 4,
 "nbformat_minor": 2
}
